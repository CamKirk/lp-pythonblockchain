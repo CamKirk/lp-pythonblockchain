{
 "nbformat": 4,
 "nbformat_minor": 2,
 "metadata": {
  "language_info": {
   "name": "python",
   "codemirror_mode": {
    "name": "ipython",
    "version": 3
   },
   "version": "3.7.4-final"
  },
  "orig_nbformat": 2,
  "file_extension": ".py",
  "mimetype": "text/x-python",
  "name": "python",
  "npconvert_exporter": "python",
  "pygments_lexer": "ipython3",
  "version": 3,
  "kernelspec": {
   "name": "python3",
   "display_name": "Python 3"
  }
 },
 "cells": [
  {
   "cell_type": "code",
   "execution_count": 76,
   "metadata": {},
   "outputs": [],
   "source": [
    "import hashlib"
   ]
  },
  {
   "cell_type": "code",
   "execution_count": 77,
   "metadata": {},
   "outputs": [
    {
     "output_type": "execute_result",
     "data": {
      "text/plain": "'markov'"
     },
     "metadata": {},
     "execution_count": 77
    }
   ],
   "source": [
    "\"markov\""
   ]
  },
  {
   "cell_type": "code",
   "execution_count": 78,
   "metadata": {},
   "outputs": [
    {
     "output_type": "execute_result",
     "data": {
      "text/plain": "b'markov'"
     },
     "metadata": {},
     "execution_count": 78
    }
   ],
   "source": [
    "bytes(\"markov\", \"utf-8\")"
   ]
  },
  {
   "cell_type": "code",
   "execution_count": 79,
   "metadata": {},
   "outputs": [
    {
     "output_type": "stream",
     "name": "stdout",
     "text": "109\n97\n114\n107\n111\n118\n"
    },
    {
     "output_type": "execute_result",
     "data": {
      "text/plain": "'43cedaa98924112f2f89c3277a0c1f7ecc487350c22d428ebd2f61dc32389787'"
     },
     "metadata": {},
     "execution_count": 79
    }
   ],
   "source": [
    "for byte in bytes(\"markov\", \"utf-8\"):\n",
    "    print(byte)\n",
    "m = hashlib.sha256()\n",
    "m.update(bytes(\"markov\", \"utf-8\"))\n",
    "m.hexdigest()"
   ]
  },
  {
   "cell_type": "code",
   "execution_count": 80,
   "metadata": {},
   "outputs": [
    {
     "output_type": "stream",
     "name": "stdout",
     "text": "109\n97\n114\n107\n111\n110\n"
    },
    {
     "output_type": "execute_result",
     "data": {
      "text/plain": "'d9a3984bfb9ffb3d8287bee1398821f4adfe09f7f9daf80d56e5006f6e6ab866'"
     },
     "metadata": {},
     "execution_count": 80
    }
   ],
   "source": [
    "for byte in bytes(\"markon\", \"utf-8\"):\n",
    "    print(byte)\n",
    "m = hashlib.sha256()\n",
    "m.update(bytes(\"markon\", \"utf-8\"))\n",
    "m.hexdigest()"
   ]
  },
  {
   "cell_type": "code",
   "execution_count": 81,
   "metadata": {},
   "outputs": [
    {
     "output_type": "execute_result",
     "data": {
      "text/plain": "'4011991914547630480065053387702443812690402487741812225955731622655455723258857248542161222254985216 possible combinations of 64 characters of 36 options'"
     },
     "metadata": {},
     "execution_count": 81
    }
   ],
   "source": [
    "f\"{(26+10)**64} possible combinations of 64 characters of 36 options\""
   ]
  },
  {
   "cell_type": "code",
   "execution_count": 82,
   "metadata": {},
   "outputs": [
    {
     "output_type": "stream",
     "name": "stdout",
     "text": "43cedaa98924112f2f89c3277a0c1f7ecc487350c22d428ebd2f61dc32389787\nd9a3984bfb9ffb3d8287bee1398821f4adfe09f7f9daf80d56e5006f6e6ab866\n"
    }
   ],
   "source": [
    "a = hashlib.sha256()\n",
    "a.update(bytes(\"markov\", \"utf-8\"))\n",
    "print(a.hexdigest())\n",
    "b = hashlib.sha256()\n",
    "b.update(bytes(\"markon\", \"utf-8\"))\n",
    "print(b.hexdigest())"
   ]
  },
  {
   "cell_type": "code",
   "execution_count": 83,
   "metadata": {},
   "outputs": [
    {
     "output_type": "execute_result",
     "data": {
      "text/plain": "'2cff5a6595c2c90cafb14a83398e52a161374c4f47496cf09abe53b83acd04b6'"
     },
     "metadata": {},
     "execution_count": 83
    }
   ],
   "source": [
    "c = hashlib.sha256()\n",
    "c.update(bytes(\"markov\", \"utf-8\"))\n",
    "c.update(bytes(\"markon\", \"utf-8\"))\n",
    "c.hexdigest()"
   ]
  },
  {
   "cell_type": "code",
   "execution_count": 84,
   "metadata": {},
   "outputs": [
    {
     "output_type": "execute_result",
     "data": {
      "text/plain": "'2cff5a6595c2c90cafb14a83398e52a161374c4f47496cf09abe53b83acd04b6'"
     },
     "metadata": {},
     "execution_count": 84
    }
   ],
   "source": [
    "d = hashlib.sha256()\n",
    "d.update(bytes(\"markov\", \"utf-8\")+bytes(\"markon\", \"utf-8\"))\n",
    "d.hexdigest()"
   ]
  },
  {
   "cell_type": "code",
   "execution_count": 85,
   "metadata": {},
   "outputs": [
    {
     "output_type": "execute_result",
     "data": {
      "text/plain": "'0e6bae302ba74bdfb42162b34f17bf1d19bf2bdab50621d3a85084018cb4453e'"
     },
     "metadata": {},
     "execution_count": 85
    }
   ],
   "source": [
    "e = hashlib.sha256()\n",
    "e.update(bytes(\"markon\", \"utf-8\")+bytes(\"markov\", \"utf-8\"))\n",
    "e.hexdigest()"
   ]
  },
  {
   "cell_type": "code",
   "execution_count": 86,
   "metadata": {},
   "outputs": [],
   "source": [
    "ledger_block = \"\"\"\n",
    "Akanksha pays Jose 200\n",
    "Jose pays Chase 100\n",
    "Jose pays Aimon 40\n",
    "Jose pays Theo 40\n",
    "Salma pays Shazia 30\n",
    "Aimon pays Jessica 500\"\"\""
   ]
  },
  {
   "cell_type": "code",
   "execution_count": 87,
   "metadata": {},
   "outputs": [
    {
     "output_type": "execute_result",
     "data": {
      "text/plain": "'05971ec9f83ba4cbac6325d667d192f6349a8d6154d797576b6d02bdb086baa2'"
     },
     "metadata": {},
     "execution_count": 87
    }
   ],
   "source": [
    "f = hashlib.sha256()\n",
    "for line in ledger_block.split(\"\\n\"):\n",
    "    f.update(bytes(line,\"utf-8\"))\n",
    "f.hexdigest()\n",
    "    "
   ]
  },
  {
   "cell_type": "code",
   "execution_count": 88,
   "metadata": {},
   "outputs": [],
   "source": [
    "scam_block = \"\"\"\n",
    "Akanksha pays Jose 200\n",
    "Jose pays Chase 100\n",
    "Jose pays Aimon 4000\n",
    "Jose pays Theo 40\n",
    "Salma pays Shazia 30\n",
    "Aimon pays Jessica 500\"\"\""
   ]
  },
  {
   "cell_type": "code",
   "execution_count": 89,
   "metadata": {},
   "outputs": [
    {
     "output_type": "execute_result",
     "data": {
      "text/plain": "'712ac912e61300edba3bbb3b148e0cbb84d161ce990ffab6cea00794f1962a85'"
     },
     "metadata": {},
     "execution_count": 89
    }
   ],
   "source": [
    "e = hashlib.sha256()\n",
    "for line in scam_block.split(\"\\n\"):\n",
    "    e.update(bytes(line,\"utf-8\"))\n",
    "e.hexdigest()"
   ]
  },
  {
   "cell_type": "code",
   "execution_count": 90,
   "metadata": {},
   "outputs": [
    {
     "output_type": "execute_result",
     "data": {
      "text/plain": "['2c64a519378828ad696519c3b4bc015db11cc8331deb6ec121d7a36e0386002e',\n '07f67cc7d09c5f0588385d392faf3f614f4f26e1d9a4083250f6c1f3bc73193d',\n 'ceb395af34c5ea2be2badf519bf8f1e29658731c331fb14dd53cf79382fcdfae']"
     },
     "metadata": {},
     "execution_count": 90
    }
   ],
   "source": [
    "block_1 = \"\"\"\n",
    "Akanksha pays Sam 30\n",
    "Sam pays Chase 91\n",
    "Sam pays Aimon 40\n",
    "Sam pays Theo 19\n",
    "Salma pays Shannon 23\n",
    "Aimon pays Margret 89\"\"\"\n",
    "\n",
    "block_2 = \"\"\"\n",
    "Bohr pays Boltzmann 8\n",
    "Boltzmann pays Gibbs 19\n",
    "Hemholtz pays Fuller 12\n",
    "Hemholtz pays Lavoisier 94\n",
    "Fuller pays Bohr 17\n",
    "Lavoisier pays Carnot 91\"\"\"\n",
    "\n",
    "block_3 = \"\"\"\n",
    "Euclid pays Ramanujan 55\n",
    "Descartes pays Euler 34\n",
    "Descartes pays Euler 12\n",
    "Gauss pays Turing 314\n",
    "Pascal pays Gauss 218\n",
    "Gauss pays Pascal 70\"\"\"\n",
    "\n",
    "g = hashlib.sha256()\n",
    "g.update(bytes(block_1,\"utf-8\"))\n",
    "first_block = g.hexdigest()\n",
    "\n",
    "blocks = [block_2,block_3]\n",
    "blockchain = [first_block]\n",
    "\n",
    "\n",
    "for block in blocks:\n",
    "    h = hashlib.sha256()\n",
    "    h.update(bytes(blockchain[-1],\"utf-8\") + bytes(block,\"utf-8\"))\n",
    "    block_hash = h.hexdigest()\n",
    "    blockchain.append(block_hash)\n",
    "blockchain"
   ]
  },
  {
   "cell_type": "code",
   "execution_count": 91,
   "metadata": {},
   "outputs": [
    {
     "output_type": "execute_result",
     "data": {
      "text/plain": "'6c577b126af66b5593c796e60e0b19e7fc526c0702a3b563d3b6d6b1e3ce1043'"
     },
     "metadata": {},
     "execution_count": 91
    }
   ],
   "source": [
    "p = hashlib.sha256()\n",
    "p.update(bytes(block_2,\"utf-8\"))\n",
    "p.hexdigest()"
   ]
  },
  {
   "cell_type": "code",
   "execution_count": null,
   "metadata": {},
   "outputs": [],
   "source": []
  }
 ]
}